{
 "cells": [
  {
   "cell_type": "code",
   "execution_count": 6,
   "metadata": {},
   "outputs": [],
   "source": [
    "from logging import getLogger\n",
    "logger = getLogger(__name__)\n",
    "logger.info('message')\n",
    "import toml"
   ]
  },
  {
   "cell_type": "code",
   "execution_count": 7,
   "metadata": {},
   "outputs": [
    {
     "data": {
      "text/plain": [
       "2783.138807808"
      ]
     },
     "execution_count": 7,
     "metadata": {},
     "output_type": "execute_result"
    }
   ],
   "source": [
    "nside = 128\n",
    "npix = 12*nside**2\n",
    "npix3 = 3*npix\n",
    "(npix3**2*8)/1e9"
   ]
  },
  {
   "cell_type": "code",
   "execution_count": 8,
   "metadata": {},
   "outputs": [],
   "source": [
    "toml_data = toml.load(open(\"/home/t/t541/data/program/e2e_sim/pointing_sys/outputs/test_ruri_hwp_wedge_1day_2048to512/pntsys_detectors_MFT_M1-100_T+B_params.toml\"))"
   ]
  },
  {
   "cell_type": "code",
   "execution_count": 15,
   "metadata": {},
   "outputs": [
    {
     "data": {
      "text/plain": [
       "dict_items([('machine', 'RURI'), ('node', 1), ('node_mem', 128), ('mpi_process', 8), ('elapse', '00:30:00')])"
      ]
     },
     "execution_count": 15,
     "metadata": {},
     "output_type": "execute_result"
    }
   ],
   "source": [
    "hpc_info = toml_data[\"hpc\"]\n",
    "hpc_info.items()"
   ]
  },
  {
   "cell_type": "code",
   "execution_count": 18,
   "metadata": {},
   "outputs": [
    {
     "name": "stdout",
     "output_type": "stream",
     "text": [
      "machine = RURI\n",
      "node = 1\n",
      "node_mem = 128\n",
      "mpi_process = 8\n",
      "elapse = 00:30:00\n"
     ]
    }
   ],
   "source": [
    "for key in hpc_info.items():\n",
    "    print(f\"{key[0]} = {key[1]}\")"
   ]
  }
 ],
 "metadata": {
  "kernelspec": {
   "display_name": "lbs_wedge",
   "language": "python",
   "name": "python3"
  },
  "language_info": {
   "codemirror_mode": {
    "name": "ipython",
    "version": 3
   },
   "file_extension": ".py",
   "mimetype": "text/x-python",
   "name": "python",
   "nbconvert_exporter": "python",
   "pygments_lexer": "ipython3",
   "version": "3.10.15"
  }
 },
 "nbformat": 4,
 "nbformat_minor": 2
}
