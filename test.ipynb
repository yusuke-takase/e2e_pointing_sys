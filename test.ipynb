{
 "cells": [
  {
   "cell_type": "code",
   "execution_count": 6,
   "metadata": {},
   "outputs": [],
   "source": [
    "from logging import getLogger\n",
    "logger = getLogger(__name__)\n",
    "logger.info('message')\n",
    "import toml"
   ]
  },
  {
   "cell_type": "code",
   "execution_count": 7,
   "metadata": {},
   "outputs": [
    {
     "data": {
      "text/plain": [
       "2783.138807808"
      ]
     },
     "execution_count": 7,
     "metadata": {},
     "output_type": "execute_result"
    }
   ],
   "source": [
    "nside = 128\n",
    "npix = 12*nside**2\n",
    "npix3 = 3*npix\n",
    "(npix3**2*8)/1e9"
   ]
  },
  {
   "cell_type": "code",
   "execution_count": 8,
   "metadata": {},
   "outputs": [],
   "source": [
    "toml_data = toml.load(open(\"/home/t/t541/data/program/e2e_sim/pointing_sys/outputs/test_ruri_hwp_wedge_1day_2048to512/pntsys_detectors_MFT_M1-100_T+B_params.toml\"))"
   ]
  },
  {
   "cell_type": "code",
   "execution_count": 15,
   "metadata": {},
   "outputs": [
    {
     "data": {
      "text/plain": [
       "dict_items([('machine', 'RURI'), ('node', 1), ('node_mem', 128), ('mpi_process', 8), ('elapse', '00:30:00')])"
      ]
     },
     "execution_count": 15,
     "metadata": {},
     "output_type": "execute_result"
    }
   ],
   "source": [
    "hpc_info = toml_data[\"hpc\"]\n",
    "hpc_info.items()"
   ]
  },
  {
   "cell_type": "code",
   "execution_count": 19,
   "metadata": {},
   "outputs": [
    {
     "name": "stdout",
     "output_type": "stream",
     "text": [
      "machine = RURI\n",
      "node = 1\n",
      "node_mem = 128\n",
      "mpi_process = 8\n",
      "elapse = 00:30:00\n"
     ]
    }
   ],
   "source": [
    "for key in hpc_info.items():\n",
    "    print(f\"{key[0]} = {key[1]}\")"
   ]
  },
  {
   "cell_type": "code",
   "execution_count": 23,
   "metadata": {},
   "outputs": [],
   "source": [
    "import numpy as np\n",
    "import subprocess\n",
    "whoami = subprocess.run(['whoami'], capture_output=True, text=True)\n",
    "jss_account = whoami.stdout.strip()"
   ]
  },
  {
   "cell_type": "code",
   "execution_count": 24,
   "metadata": {},
   "outputs": [
    {
     "data": {
      "text/plain": [
       "'t541'"
      ]
     },
     "execution_count": 24,
     "metadata": {},
     "output_type": "execute_result"
    }
   ],
   "source": [
    "jss_account"
   ]
  },
  {
   "cell_type": "code",
   "execution_count": 32,
   "metadata": {},
   "outputs": [
    {
     "data": {
      "text/plain": [
       "' DU10503\\ngid              '"
      ]
     },
     "execution_count": 32,
     "metadata": {},
     "output_type": "execute_result"
    }
   ],
   "source": [
    "jxbizinfo = subprocess.run(['jxbizinfo'], capture_output=True, text=True)\n",
    "jxbizinfo.stdout.strip().split(\":\")[1]"
   ]
  },
  {
   "cell_type": "code",
   "execution_count": 34,
   "metadata": {},
   "outputs": [
    {
     "name": "stdout",
     "output_type": "stream",
     "text": [
      "Home Directory: DU10503\n"
     ]
    }
   ],
   "source": [
    "import os\n",
    "\n",
    "# 環境変数 'HOME' の値を取得\n",
    "home_directory = os.getenv('bizcode')\n",
    "\n",
    "# 結果を表示\n",
    "print(f'Home Directory: {home_directory}')"
   ]
  }
 ],
 "metadata": {
  "kernelspec": {
   "display_name": "lbs_wedge",
   "language": "python",
   "name": "python3"
  },
  "language_info": {
   "codemirror_mode": {
    "name": "ipython",
    "version": 3
   },
   "file_extension": ".py",
   "mimetype": "text/x-python",
   "name": "python",
   "nbconvert_exporter": "python",
   "pygments_lexer": "ipython3",
   "version": "3.10.15"
  }
 },
 "nbformat": 4,
 "nbformat_minor": 2
}
